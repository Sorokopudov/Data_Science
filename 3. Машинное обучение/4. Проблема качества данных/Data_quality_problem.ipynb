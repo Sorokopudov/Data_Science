{
 "cells": [
  {
   "cell_type": "markdown",
   "metadata": {},
   "source": [
    "# Домашнее задание \"Проблема качества данных\""
   ]
  },
  {
   "cell_type": "markdown",
   "metadata": {},
   "source": [
    "Необходимо запустить практическую часть занятия, и посмотреть самому то, о чём говорили на лекции. По образу практики, попробуйте создать искусственный датасет с лишними столбцами. Целевую метку, при правильной обработке данных, формируйте таким образом, чтобы без затруднений её смогла описать линейная модель. Ориентируйтесь на то, что было показано во время занятия, и каждый шаг описывайте в markdown. Здесь важно видеть ваш ход мысли. Не бойтесь ошибиться или написать не то. Данное задание не имеет какого-то “правильного” решения. Цель - достичь базового понимания проблемы. Чем больше вы фантазируете, тем лучше :) Тем не менее, старайтесь представить те ситуации, которые по-вашему мнению могли бы быть в реальных данных. Успеха!"
   ]
  },
  {
   "cell_type": "code",
   "execution_count": 1,
   "metadata": {},
   "outputs": [],
   "source": [
    "import numpy as np\n",
    "import pandas as pd\n",
    "import seaborn as sns\n",
    "\n",
    "from sklearn.linear_model import LinearRegression"
   ]
  },
  {
   "cell_type": "markdown",
   "metadata": {},
   "source": [
    "Создаем искуссвтенный датасет с характеристиками и ценой на аквариумы. \n",
    "\n",
    "Целевая переменная соответсвенно цена (price).\n",
    "\n",
    "Параметры:\n",
    "- артикул товара, vendor_code\n",
    "- высота, height  \n",
    "- ширина, width  \n",
    "- глубина, depth\n"
   ]
  },
  {
   "cell_type": "code",
   "execution_count": 92,
   "metadata": {},
   "outputs": [],
   "source": [
    "n_samples = 1000\n",
    "\n",
    "# a = [4, 4.5, 5, 5.5, 6, 6.5, 7, 7.5, 8] # Какие могут быть диагонали\n",
    "# b = [32, 64, 128, 256] # варианты встроенной памяти \n",
    "# c = [2, 4, 6, 8, 12, 16, 32] # варианты оперативной памяти\n",
    "# d = [8, 16, 32, 64, 128] # кол-во мегапикселей в камере\n",
    "\n",
    "\n",
    "vendor_code = np.random.choice(1000, n_samples)\n",
    "height = np.random.choice(200, n_samples) + 20\n",
    "width = np.random.choice(200, n_samples) + 20\n",
    "depth = np.random.choice(200, n_samples) + 20\n",
    "\n",
    "price = height * width * depth / 1000 +114\n"
   ]
  },
  {
   "cell_type": "code",
   "execution_count": 93,
   "metadata": {},
   "outputs": [
    {
     "data": {
      "text/html": [
       "<div>\n",
       "<style scoped>\n",
       "    .dataframe tbody tr th:only-of-type {\n",
       "        vertical-align: middle;\n",
       "    }\n",
       "\n",
       "    .dataframe tbody tr th {\n",
       "        vertical-align: top;\n",
       "    }\n",
       "\n",
       "    .dataframe thead th {\n",
       "        text-align: right;\n",
       "    }\n",
       "</style>\n",
       "<table border=\"1\" class=\"dataframe\">\n",
       "  <thead>\n",
       "    <tr style=\"text-align: right;\">\n",
       "      <th></th>\n",
       "      <th>vendor_code</th>\n",
       "      <th>height</th>\n",
       "      <th>width</th>\n",
       "      <th>depth</th>\n",
       "      <th>price</th>\n",
       "    </tr>\n",
       "  </thead>\n",
       "  <tbody>\n",
       "    <tr>\n",
       "      <th>0</th>\n",
       "      <td>646</td>\n",
       "      <td>211</td>\n",
       "      <td>127</td>\n",
       "      <td>125</td>\n",
       "      <td>3463.625</td>\n",
       "    </tr>\n",
       "    <tr>\n",
       "      <th>1</th>\n",
       "      <td>351</td>\n",
       "      <td>20</td>\n",
       "      <td>200</td>\n",
       "      <td>125</td>\n",
       "      <td>614.000</td>\n",
       "    </tr>\n",
       "    <tr>\n",
       "      <th>2</th>\n",
       "      <td>697</td>\n",
       "      <td>158</td>\n",
       "      <td>199</td>\n",
       "      <td>185</td>\n",
       "      <td>5930.770</td>\n",
       "    </tr>\n",
       "    <tr>\n",
       "      <th>3</th>\n",
       "      <td>206</td>\n",
       "      <td>44</td>\n",
       "      <td>175</td>\n",
       "      <td>174</td>\n",
       "      <td>1453.800</td>\n",
       "    </tr>\n",
       "    <tr>\n",
       "      <th>4</th>\n",
       "      <td>360</td>\n",
       "      <td>175</td>\n",
       "      <td>187</td>\n",
       "      <td>63</td>\n",
       "      <td>2175.675</td>\n",
       "    </tr>\n",
       "  </tbody>\n",
       "</table>\n",
       "</div>"
      ],
      "text/plain": [
       "   vendor_code  height  width  depth     price\n",
       "0          646     211    127    125  3463.625\n",
       "1          351      20    200    125   614.000\n",
       "2          697     158    199    185  5930.770\n",
       "3          206      44    175    174  1453.800\n",
       "4          360     175    187     63  2175.675"
      ]
     },
     "execution_count": 93,
     "metadata": {},
     "output_type": "execute_result"
    }
   ],
   "source": [
    "data = pd.DataFrame({'vendor_code': vendor_code, 'height': height, 'width': width, 'depth': depth, 'price': price})\n",
    "data.head()"
   ]
  },
  {
   "cell_type": "code",
   "execution_count": 94,
   "metadata": {},
   "outputs": [
    {
     "name": "stdout",
     "output_type": "stream",
     "text": [
      "Weights: [-0.18909212 15.18398077 15.10666793 14.83031512]\n",
      "Bias: -3438.0451174590125\n",
      "Error: 549.4868432635466\n"
     ]
    }
   ],
   "source": [
    "from sklearn.metrics import mean_absolute_error\n",
    "\n",
    "X = data[['vendor_code', 'height', 'width', 'depth']]\n",
    "y = data['price']\n",
    "reg = LinearRegression().fit(X, y)\n",
    "print('Weights: {}'.format(reg.coef_))\n",
    "print('Bias: {}'.format(reg.intercept_))\n",
    "\n",
    "pred_values = reg.predict(data[['vendor_code', 'height', 'width', 'depth']])\n",
    "print('Error: {}'.format(mean_absolute_error(pred_values, y)))"
   ]
  },
  {
   "cell_type": "markdown",
   "metadata": {},
   "source": [
    "Получаем очень большую ошибку. Вероятно из-за того, что обучаем модель, учитывая артикул товара, который на ценообразование не влияет. Уберем этот параметр из обучающей выборки. "
   ]
  },
  {
   "cell_type": "code",
   "execution_count": 95,
   "metadata": {},
   "outputs": [
    {
     "name": "stdout",
     "output_type": "stream",
     "text": [
      "Weights: [15.23402206 15.09930314 14.79830667]\n",
      "Bias: -3533.915166558473\n",
      "Error: 549.5652813312947\n"
     ]
    }
   ],
   "source": [
    "X = data[['height', 'width', 'depth']]\n",
    "y = data['price']\n",
    "reg = LinearRegression().fit(X, y)\n",
    "print('Weights: {}'.format(reg.coef_))\n",
    "print('Bias: {}'.format(reg.intercept_))\n",
    "\n",
    "pred_values = reg.predict(data[['height', 'width', 'depth']])\n",
    "print('Error: {}'.format(mean_absolute_error(pred_values, y)))"
   ]
  },
  {
   "cell_type": "markdown",
   "metadata": {},
   "source": [
    "Ошибка упала, но незначительно.  Создаем еще одну колонку с параметром \"объем\"."
   ]
  },
  {
   "cell_type": "code",
   "execution_count": 96,
   "metadata": {},
   "outputs": [
    {
     "data": {
      "text/html": [
       "<div>\n",
       "<style scoped>\n",
       "    .dataframe tbody tr th:only-of-type {\n",
       "        vertical-align: middle;\n",
       "    }\n",
       "\n",
       "    .dataframe tbody tr th {\n",
       "        vertical-align: top;\n",
       "    }\n",
       "\n",
       "    .dataframe thead th {\n",
       "        text-align: right;\n",
       "    }\n",
       "</style>\n",
       "<table border=\"1\" class=\"dataframe\">\n",
       "  <thead>\n",
       "    <tr style=\"text-align: right;\">\n",
       "      <th></th>\n",
       "      <th>vendor_code</th>\n",
       "      <th>height</th>\n",
       "      <th>width</th>\n",
       "      <th>depth</th>\n",
       "      <th>price</th>\n",
       "      <th>volume</th>\n",
       "    </tr>\n",
       "  </thead>\n",
       "  <tbody>\n",
       "    <tr>\n",
       "      <th>0</th>\n",
       "      <td>646</td>\n",
       "      <td>211</td>\n",
       "      <td>127</td>\n",
       "      <td>125</td>\n",
       "      <td>3463.625</td>\n",
       "      <td>3349625</td>\n",
       "    </tr>\n",
       "    <tr>\n",
       "      <th>1</th>\n",
       "      <td>351</td>\n",
       "      <td>20</td>\n",
       "      <td>200</td>\n",
       "      <td>125</td>\n",
       "      <td>614.000</td>\n",
       "      <td>500000</td>\n",
       "    </tr>\n",
       "    <tr>\n",
       "      <th>2</th>\n",
       "      <td>697</td>\n",
       "      <td>158</td>\n",
       "      <td>199</td>\n",
       "      <td>185</td>\n",
       "      <td>5930.770</td>\n",
       "      <td>5816770</td>\n",
       "    </tr>\n",
       "    <tr>\n",
       "      <th>3</th>\n",
       "      <td>206</td>\n",
       "      <td>44</td>\n",
       "      <td>175</td>\n",
       "      <td>174</td>\n",
       "      <td>1453.800</td>\n",
       "      <td>1339800</td>\n",
       "    </tr>\n",
       "    <tr>\n",
       "      <th>4</th>\n",
       "      <td>360</td>\n",
       "      <td>175</td>\n",
       "      <td>187</td>\n",
       "      <td>63</td>\n",
       "      <td>2175.675</td>\n",
       "      <td>2061675</td>\n",
       "    </tr>\n",
       "  </tbody>\n",
       "</table>\n",
       "</div>"
      ],
      "text/plain": [
       "   vendor_code  height  width  depth     price   volume\n",
       "0          646     211    127    125  3463.625  3349625\n",
       "1          351      20    200    125   614.000   500000\n",
       "2          697     158    199    185  5930.770  5816770\n",
       "3          206      44    175    174  1453.800  1339800\n",
       "4          360     175    187     63  2175.675  2061675"
      ]
     },
     "execution_count": 96,
     "metadata": {},
     "output_type": "execute_result"
    }
   ],
   "source": [
    "data['volume'] = data['height'] * data['width'] * data['depth']\n",
    "data.head(5)"
   ]
  },
  {
   "cell_type": "markdown",
   "metadata": {},
   "source": [
    "Обучим выборку только на параметре \"объем\":"
   ]
  },
  {
   "cell_type": "code",
   "execution_count": 97,
   "metadata": {},
   "outputs": [
    {
     "name": "stdout",
     "output_type": "stream",
     "text": [
      "Weights: [0.001]\n",
      "Bias: 113.99999999999977\n",
      "Error: 2.0230572772561573e-13\n"
     ]
    }
   ],
   "source": [
    "X = data[['volume']]\n",
    "y = data['price']\n",
    "reg = LinearRegression().fit(X, y)\n",
    "print('Weights: {}'.format(reg.coef_))\n",
    "print('Bias: {}'.format(reg.intercept_))\n",
    "\n",
    "pred_values = reg.predict(data[['volume']])\n",
    "print('Error: {}'.format(mean_absolute_error(pred_values, y)))"
   ]
  },
  {
   "cell_type": "markdown",
   "metadata": {},
   "source": [
    "Ошибка близка к нулю"
   ]
  }
 ],
 "metadata": {
  "kernelspec": {
   "display_name": "Python 3",
   "language": "python",
   "name": "python3"
  },
  "language_info": {
   "codemirror_mode": {
    "name": "ipython",
    "version": 3
   },
   "file_extension": ".py",
   "mimetype": "text/x-python",
   "name": "python",
   "nbconvert_exporter": "python",
   "pygments_lexer": "ipython3",
   "version": "3.8.5"
  }
 },
 "nbformat": 4,
 "nbformat_minor": 4
}

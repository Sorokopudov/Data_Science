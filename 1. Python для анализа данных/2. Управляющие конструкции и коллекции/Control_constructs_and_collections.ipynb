{
 "cells": [
  {
   "cell_type": "code",
   "execution_count": 1,
   "metadata": {},
   "outputs": [
    {
     "name": "stdout",
     "output_type": "stream",
     "text": [
      "Фраза 1 длиннее фразы 2\n"
     ]
    }
   ],
   "source": [
    "\"\"\"Задание 1\n",
    "Даны 2 переменных, в которых хранятся строки произвольной длины: phrase_1 и phrase_2.\n",
    "Напишите код, который проверяет какая из этих строк длиннее.\"\"\"\n",
    "\n",
    "phrase_1 = 'Насколько проще было бы писать программы, если бы не заказчики'\n",
    "phrase_2 = '640Кб должно хватить для любых задач. Билл Гейтс (по легенде)'\n",
    "if len(phrase_1) > len(phrase_2):\n",
    "    print('Фраза 1 длиннее фразы 2')\n",
    "elif len(phrase_2) > len(phrase_2):\n",
    "    print('Фраза 2 длиннее фразы 1')\n",
    "else:\n",
    "    print('Фразы равной длины')   "
   ]
  },
  {
   "cell_type": "code",
   "execution_count": 6,
   "metadata": {},
   "outputs": [
    {
     "name": "stdout",
     "output_type": "stream",
     "text": [
      "1600\n",
      "Високосный год\n"
     ]
    }
   ],
   "source": [
    "\"\"\"Задание 2\n",
    "Дана переменная, в которой хранится четырехзначное число (год). Необходимо написать программу, которая выведет, является ли данный год високосным или обычным.\"\"\" \n",
    "\n",
    "year = int(input())\n",
    "if (year % 4 == 0) and (year % 100 != 0) or (year % 400 == 0):\n",
    "    print('Високосный год')\n",
    "else: \n",
    "    print('Обычный год')"
   ]
  },
  {
   "cell_type": "code",
   "execution_count": 2,
   "metadata": {},
   "outputs": [
    {
     "name": "stdout",
     "output_type": "stream",
     "text": [
      "Введите месяц:Март\n",
      "Введите день:08\n",
      "Ваш знак зодиака: Рыбы\n"
     ]
    }
   ],
   "source": [
    "\"\"\"Задание 3\n",
    "Необходимо написать программу, которая будет запрашивать у пользователя месяц и дату рождения и выводить соответствующий знак зодиака.\"\"\"\n",
    "\n",
    "m = input('Введите месяц:')\n",
    "d = int(input('Введите день:'))\n",
    "if (d >= 21 and d <= 31 and m == 'Март') or (d <= 19 and d >= 1 and m == 'Апрель') :\n",
    "    print('Ваш знак зодиака: Овен')\n",
    "elif (d >= 20 and d <= 30 and m == 'Апрель') or (d <= 20 and d >= 1 and m == 'Май'):\n",
    "    print('Ваш знак зодиака: Телец')\n",
    "elif (d >= 21 and d <= 31 and m == 'Май') or (d <= 21 and d >= 1 and m == 'Июнь'):\n",
    "    print('Ваш знак зодиака: Близнецы')\n",
    "elif (d >= 22 and d <= 30 and m == 'Июнь') or (d <= 22 and d >= 1 and m == 'Июль'):\n",
    "    print('Ваш знак зодиака: Рак')\n",
    "elif (d >= 23 and d <= 31 and m == 'Июль') or (d <= 22 and d >= 1 and m == 'Август'):\n",
    "    print('Ваш знак зодиака: Лев')\n",
    "elif (d >= 23 and d <= 31 and m == 'Август') or (d <= 22 and d >= 1 and m == 'Сентябрь'):\n",
    "    print('Ваш знак зодиака: Дева')\n",
    "elif (d >= 23 and d <= 30 and m == 'Сентябрь') or (d <= 23 and d >= 1 and m == 'Октябрь'):\n",
    "    print('Ваш знак зодиака: Весы')\n",
    "elif (d >= 24 and d <= 31 and m == 'Октябрь') or (d <= 22 and d >= 1 and m == 'Ноябрь'):\n",
    "    print('Ваш знак зодиака: Скорпион')\n",
    "elif (d >= 23 and d <= 30 and m == 'Ноябрь') or (d <= 21 and d >= 1 and m == 'Декабрь'):\n",
    "    print('Ваш знак зодиака: Стрелец')\n",
    "elif (d >= 22 and d <= 31 and m == 'Декабрь') or (d <= 20 and d >= 1 and m == 'Январь'):\n",
    "    print('Ваш знак зодиака: Козерог')\n",
    "elif (d >= 21 and d <= 31 and m == 'Январь') or (d <= 18 and d >= 1 and m == 'Февраль'):\n",
    "    print('Ваш знак зодиака: Водолей')\n",
    "elif (d >= 19 and d <= 29 and m == 'Февраль') or (d <= 20 and d >= 1 and m == 'Март'):\n",
    "    print('Ваш знак зодиака: Рыбы')\n",
    "else:\n",
    "    print('Вы ввели некорректную дату')"
   ]
  },
  {
   "cell_type": "code",
   "execution_count": 3,
   "metadata": {},
   "outputs": [
    {
     "name": "stdout",
     "output_type": "stream",
     "text": [
      "Введите ширину посылки в сантиметрах45\n",
      "Введите длинну посылки в сантиметрах205\n",
      "Введите высоту посылки в сантиметрах45\n",
      "Упаковка для лыж\n"
     ]
    }
   ],
   "source": [
    "\"\"\"Задание 4\n",
    "Вам нужно написать программу для подбора упаковок по размерам товара. \"\"\"\n",
    "\n",
    "width = int(input('Введите ширину посылки в сантиметрах: '))\n",
    "length = int(input('Введите длинну посылки в сантиметрах: '))\n",
    "height = int(input('Введите высоту посылки в сантиметрах: '))\n",
    "if width < 15 and length < 15 and height < 15:\n",
    "    print('Коробка №1')\n",
    "elif (15 > width < 50 or 15 > length < 50 or 15 > height < 50):\n",
    "    print('Коробка №2')\n",
    "elif length > 200:\n",
    "    print('Упаковка для лыж')\n",
    "else:\n",
    "    print('Стандартная коробка №3')"
   ]
  },
  {
   "cell_type": "code",
   "execution_count": null,
   "metadata": {},
   "outputs": [],
   "source": [
    "\"\"\"Задание 6 (необязательное)\n",
    "Напишите программу, которая сможет вычислять площади трех фигур (круг, треугольник и прямоугольник). \"\"\"\n",
    "\n",
    "\n",
    "f=input('Введите название фигуры: ')\n",
    "if f=='Круг':\n",
    "    r=int(input('Введите радиус: '))\n",
    "    s=3.14*r*r\n",
    "    print('Площадь круга равна:',s)\n",
    "elif f=='Треугольник':\n",
    "    a=int(input('Введите длину стороны A:'))\n",
    "    b=int(input('Введите длину стороны B:'))\n",
    "    c=int(input('Введите длину стороны C:'))\n",
    "    p=(a+b+c)/2\n",
    "    s=(p*(p-a)*(p-b)*(p-c))**0.5\n",
    "    print('Площадь треугольника равна:',s)\n",
    "elif f=='Прямоугольник':\n",
    "    a=int(input('Введите длину стороны A:'))\n",
    "    b=int(input('Введите длину стороны B:'))\n",
    "    s=a*b\n",
    "    print('Площадь прямоугольника равна:',s)"
   ]
  }
 ],
 "metadata": {
  "kernelspec": {
   "display_name": "Python 3",
   "language": "python",
   "name": "python3"
  },
  "language_info": {
   "codemirror_mode": {
    "name": "ipython",
    "version": 3
   },
   "file_extension": ".py",
   "mimetype": "text/x-python",
   "name": "python",
   "nbconvert_exporter": "python",
   "pygments_lexer": "ipython3",
   "version": "3.8.3"
  }
 },
 "nbformat": 4,
 "nbformat_minor": 4
}

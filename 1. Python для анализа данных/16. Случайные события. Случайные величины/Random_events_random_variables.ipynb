{
 "cells": [
  {
   "cell_type": "markdown",
   "metadata": {},
   "source": [
    "# Домашнее задание к лекции «Случайные события. Случайные величины»"
   ]
  },
  {
   "cell_type": "markdown",
   "metadata": {},
   "source": [
    "Смоделировать игру против лотерейного автомата типа “777”. Игрок платит 1 руб., после чего выпадает случайное целое число, равномерно распределенное от 0 до 999. При некоторых значениях числа игрок получает выигрыш (см. справа)\n",
    "\n",
    "Выгодна ли игра игроку?\n",
    "\n",
    "Сколько в среднем приобретает\n",
    "или теряет игрок за одну игру?\n",
    "\n",
    "777: 200 руб.\n",
    "999: 100 руб.\n",
    "555: 50 руб.\n",
    "333: 15 руб.\n",
    "111: 10 руб.\n",
    "*77: 5 руб.\n",
    "**7: 3 руб.\n",
    "*00: 2 руб.\n",
    "**0: 1 руб.\n",
    "\n",
    "– любая цифра"
   ]
  },
  {
   "cell_type": "code",
   "execution_count": 6,
   "metadata": {},
   "outputs": [],
   "source": [
    "import numpy as np"
   ]
  },
  {
   "cell_type": "code",
   "execution_count": 38,
   "metadata": {},
   "outputs": [
    {
     "name": "stdout",
     "output_type": "stream",
     "text": [
      "Потрачено 100000 рублей, заработано 43558 рублей. В среднем за одну игру игрок теряет 0.56442 рублей\n"
     ]
    }
   ],
   "source": [
    "trials = 100000    # Количество попыток (потраченных рублей)\n",
    "gain = 0    # Сумма выйгрыша\n",
    "\n",
    "for i in range(trials):\n",
    "    random_score = np.random.randint(0, 100000)    # Случайное число от 1 до 999\n",
    "    if random_score == 777:\n",
    "        gain += 200\n",
    "    elif random_score  == 999:\n",
    "        gain += 100\n",
    "    elif random_score == 555:\n",
    "        gain += 50\n",
    "    elif random_score  == 333:\n",
    "        gain += 15\n",
    "    elif random_score == 111:\n",
    "        gain += 10\n",
    "    elif random_score  % 100 == 77:\n",
    "        gain += 5\n",
    "    elif random_score  % 10 == 7:\n",
    "        gain += 3\n",
    "    elif random_score  % 100 == 0:\n",
    "        gain += 2\n",
    "    elif random_score  % 10 == 0:\n",
    "        gain += 1\n",
    "    \n",
    "        \n",
    "print(f'Потрачено {trials} рублей, заработано {gain} рублей. В среднем за одну игру игрок теряет {(trials - gain)/trials} рублей')"
   ]
  },
  {
   "cell_type": "markdown",
   "metadata": {},
   "source": [
    "На дистанции данная игра игроку не выгодна. В среднем за одну попытку игрок теряет 56 копеек."
   ]
  }
 ],
 "metadata": {
  "kernelspec": {
   "display_name": "Python 3",
   "language": "python",
   "name": "python3"
  },
  "language_info": {
   "codemirror_mode": {
    "name": "ipython",
    "version": 3
   },
   "file_extension": ".py",
   "mimetype": "text/x-python",
   "name": "python",
   "nbconvert_exporter": "python",
   "pygments_lexer": "ipython3",
   "version": "3.8.5"
  }
 },
 "nbformat": 4,
 "nbformat_minor": 4
}

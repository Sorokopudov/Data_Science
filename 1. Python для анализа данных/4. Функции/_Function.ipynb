{
 "cells": [
  {
   "cell_type": "code",
   "execution_count": 21,
   "metadata": {},
   "outputs": [],
   "source": [
    "documents = [\n",
    " {'type': 'passport', 'number': '2207 876234', 'name': 'Василий Гупкин'},\n",
    " {'type': 'invoice', 'number': '11-2', 'name': 'Геннадий Покемонов'},\n",
    " {'type': 'insurance', 'number': '10006', 'name': 'Аристарх Павлов'}\n",
    "]\n",
    "directories = {\n",
    " '1': ['2207 876234', '11-2'],\n",
    " '2': ['10006'],\n",
    " '3': []\n",
    "}\n"
   ]
  },
  {
   "cell_type": "code",
   "execution_count": 51,
   "metadata": {},
   "outputs": [],
   "source": [
    "# Пользователь по команде “p” может узнать владельца документа по его номеру\n",
    "def document_owner():\n",
    "    document_number = input('Введите номер документа:')\n",
    "    a_2 = 0\n",
    "    for a in documents:\n",
    "        if a['number'] == document_number:\n",
    "            print(f\"Владелец документа: {a['name']}\")\n",
    "            a_2 += 1\n",
    "    if a_2 == 0:\n",
    "        print('Документ не найден в базе')\n",
    "    return document_number\n",
    "            "
   ]
  },
  {
   "cell_type": "code",
   "execution_count": 56,
   "metadata": {},
   "outputs": [],
   "source": [
    "# Пункт 2. Пользователь по команде \"s\" может по номеру документа узнать на какой полке он хранится\n",
    "def document_shelf():\n",
    "    document_number = input('Введите номер документа: ')\n",
    "    b_2=0\n",
    "    for b in directories:\n",
    "        if document_number in directories[b]:\n",
    "            print('Документ хранится на полке: ', b)\n",
    "            b_2 += 1\n",
    "    if b_2 == 0:\n",
    "        print('Документ не найден в базе')\n",
    "    return document_shelf\n"
   ]
  },
  {
   "cell_type": "code",
   "execution_count": 4,
   "metadata": {},
   "outputs": [],
   "source": [
    "# Пункт 3. Пользователь по команде \"l\" может увидеть полную информацию по всем документам\n",
    "def all_documents():\n",
    "    for a_3 in documents:\n",
    "        number_ = a_3['number']\n",
    "        for shelf_number in directories:\n",
    "            if number_ in directories[shelf_number]:\n",
    "                shelf = shelf_number           \n",
    "        print(f\"№: {a_3['number']}, тип: {a_3['type']}, владелец: {a_3['name']}, полка хранения: {shelf}\")\n",
    "    return all_documents   \n",
    "     "
   ]
  },
  {
   "cell_type": "code",
   "execution_count": 59,
   "metadata": {},
   "outputs": [],
   "source": [
    "# Пункт 4. Пользователь по команде \"ads\" может добавить новую полку\n",
    "def new_shelf():\n",
    "    new_shelf_4 = input('Введите номер полки: ')\n",
    "    if new_shelf_4 in directories: \n",
    "        print(f\"Такая полка уже существует. Текущий перечень полок: {', '.join(directories.keys())}\")\n",
    "    else:\n",
    "        directories[new_shelf_4] = []\n",
    "        print(f\"Полка добавлена. Текущий перечень полок: {', '.join(directories.keys())}\")\n",
    "    return new_shelf \n",
    "\n"
   ]
  },
  {
   "cell_type": "code",
   "execution_count": 64,
   "metadata": {},
   "outputs": [],
   "source": [
    "# Пункт 5. Пользователь по команде \"ds\" может удалить существующую полку из данных (только если она пустая)\n",
    "def del_shelf():\n",
    "    del_shelf_5 = input('Введите номер полки: ')\n",
    "    if del_shelf_5 in directories:\n",
    "        if len(directories[del_shelf_5]) == 0:\n",
    "            del directories[del_shelf_5] \n",
    "            print(f\"Полка удалена. Текущий перечень полок: {', '.join(directories.keys())}\")\n",
    "        elif len(directories[del_shelf_5]) != 0:            \n",
    "            print(f\"На полке есть документы, удалите их перед удалением полки. Текущий перечень полок: {', '.join(directories.keys())}\")\n",
    "    else:\n",
    "        print(f\"Такой полки не существует. Текущий перечень полок: {', '.join(directories.keys())}\")\n",
    "    return del_shelf\n",
    "\n"
   ]
  },
  {
   "cell_type": "code",
   "execution_count": 65,
   "metadata": {},
   "outputs": [],
   "source": [
    "def main():\n",
    "    while True:\n",
    "        user_input = input('Введите команды: ')\n",
    "        if user_input == 'p':\n",
    "            document_number_1 = document_owner()\n",
    "        elif user_input == 's': \n",
    "            document_shelf_1 = document_shelf() \n",
    "        elif user_input == 'l': \n",
    "            all_documents_ = all_documents()\n",
    "        elif user_input == 'ads':\n",
    "            new_shelf_ = new_shelf()\n",
    "        elif user_input == 'ds':\n",
    "            del_shelf_ = del_shelf()\n",
    "        elif user_input == 'q':\n",
    "            print('Работа программы завершена')\n",
    "            break"
   ]
  },
  {
   "cell_type": "code",
   "execution_count": 67,
   "metadata": {},
   "outputs": [
    {
     "name": "stdout",
     "output_type": "stream",
     "text": [
      "Введите команды: p\n",
      "Введите номер документа:11-2\n",
      "Владелец документа: Геннадий Покемонов\n",
      "Введите команды: q\n",
      "Работа программы завершена\n"
     ]
    }
   ],
   "source": [
    "main()"
   ]
  }
 ],
 "metadata": {
  "kernelspec": {
   "display_name": "Python 3",
   "language": "python",
   "name": "python3"
  },
  "language_info": {
   "codemirror_mode": {
    "name": "ipython",
    "version": 3
   },
   "file_extension": ".py",
   "mimetype": "text/x-python",
   "name": "python",
   "nbconvert_exporter": "python",
   "pygments_lexer": "ipython3",
   "version": "3.8.3"
  }
 },
 "nbformat": 4,
 "nbformat_minor": 4
}

{
 "cells": [
  {
   "cell_type": "markdown",
   "metadata": {},
   "source": [
    "# Домашнее задание №6 \"Теория оптимизации\""
   ]
  },
  {
   "cell_type": "markdown",
   "metadata": {},
   "source": [
    "Задание\n",
    "\n",
    "При фиксированном seed=42 поразбирайтесь и поэкспериментируйте с параметрами алгоритма дифференциальной эволюции: strategy, popsize, tol, mutation, recombination и updating.\n",
    "\n",
    "Постройте графики количества итераций оптимизации функции ackley от значения параметра."
   ]
  },
  {
   "cell_type": "code",
   "execution_count": 10,
   "metadata": {},
   "outputs": [],
   "source": [
    "import numpy as np\n",
    "from scipy.optimize import approx_fprime\n",
    "from scipy.optimize import differential_evolution\n",
    "from sympy import *\n",
    "import math\n",
    "import matplotlib.pyplot as plt"
   ]
  },
  {
   "cell_type": "code",
   "execution_count": 67,
   "metadata": {
    "scrolled": false
   },
   "outputs": [
    {
     "data": {
      "text/plain": [
       "     fun: 4.440892098500626e-16\n",
       " message: 'Optimization terminated successfully.'\n",
       "    nfev: 2793\n",
       "     nit: 90\n",
       " success: True\n",
       "       x: array([0., 0.])"
      ]
     },
     "execution_count": 67,
     "metadata": {},
     "output_type": "execute_result"
    }
   ],
   "source": [
    "def ackley(x):\n",
    "    arg1 = -0.2 * np.sqrt(0.5 * (x[0] ** 2 + x[1] ** 2))\n",
    "    arg2 = 0.5 * (np.cos(2. * np.pi * x[0]) + np.cos(2. * np.pi * x[1]))\n",
    "    return -20. * np.exp(arg1) - np.exp(arg2) + 20. + np.e\n",
    "\n",
    "bounds = [(-10, 10), (-10, 10)]\n",
    "\n",
    "result = differential_evolution(ackley, bounds, seed=42)\n",
    "# print(result['nit'])\n",
    "result\n",
    "\n"
   ]
  },
  {
   "cell_type": "markdown",
   "metadata": {},
   "source": [
    "## Поэкспериментируем со значениями параметров функции differential_evolution()\n",
    "цель - уменьшение числа итераций (nit)"
   ]
  },
  {
   "cell_type": "markdown",
   "metadata": {},
   "source": [
    "## Параметр strategy"
   ]
  },
  {
   "cell_type": "code",
   "execution_count": 44,
   "metadata": {
    "scrolled": false
   },
   "outputs": [
    {
     "data": {
      "text/plain": [
       "{'best1exp',\n",
       " 'best2bin',\n",
       " 'best2exp',\n",
       " 'currenttobest1bin',\n",
       " 'currenttobest1exp',\n",
       " 'rand1bin',\n",
       " 'rand1exp',\n",
       " 'rand2bin',\n",
       " 'rand2exp',\n",
       " 'randtobest1bin',\n",
       " 'randtobest1exp'}"
      ]
     },
     "execution_count": 44,
     "metadata": {},
     "output_type": "execute_result"
    }
   ],
   "source": [
    "strategy_type = {'best1exp', 'rand1exp', 'randtobest1exp', 'currenttobest1exp', 'best2exp', 'rand2exp', 'randtobest1bin', 'currenttobest1bin','best2bin', 'rand2bin', 'rand1bin'}\n",
    "strategy_type"
   ]
  },
  {
   "cell_type": "code",
   "execution_count": 156,
   "metadata": {},
   "outputs": [
    {
     "name": "stdout",
     "output_type": "stream",
     "text": [
      " Минимальное значение числа итераций 76 достигается методом randtobest1bin: \n",
      "      fun: 4.440892098500626e-16\n",
      " message: 'Optimization terminated successfully.'\n",
      "    nfev: 2373\n",
      "     nit: 76\n",
      " success: True\n",
      "       x: array([0., 0.])\n"
     ]
    },
    {
     "data": {
      "image/png": "[encoded data removed]",
      "text/plain": [
       "<Figure size 432x288 with 1 Axes>"
      ]
     },
     "metadata": {
      "needs_background": "light"
     },
     "output_type": "display_data"
    }
   ],
   "source": [
    "strategy_type = {'best1exp', 'rand1exp', 'randtobest1exp', 'currenttobest1exp', 'best2exp', 'rand2exp', 'randtobest1bin', 'currenttobest1bin','best2bin', 'rand2bin', 'rand1bin'}\n",
    "\n",
    "nit_min = 100000\n",
    "strategy_type_min = 'a'\n",
    "result_min = 'b' \n",
    "\n",
    "for i in strategy_type:            \n",
    "    result = differential_evolution(ackley, bounds, seed=42, strategy= i, popsize=15, tol=0.01, mutation=0.5, recombination=0.7, updating='immediate')\n",
    "    plt.plot(i, result['nit'], 'x')\n",
    "    if nit_min > result['nit']:\n",
    "        nit_min = result['nit']\n",
    "        strategy_type_min = i\n",
    "        result_min = result\n",
    "        \n",
    "print(f\" Минимальное значение числа итераций {nit_min} достигается методом {strategy_type_min}: \\n {result_min}\")"
   ]
  },
  {
   "cell_type": "markdown",
   "metadata": {},
   "source": [
    "## Параметр popsize"
   ]
  },
  {
   "cell_type": "code",
   "execution_count": 81,
   "metadata": {},
   "outputs": [],
   "source": [
    "popsize_i = [i for i in range(1,50)]\n",
    "nit_min = 100000"
   ]
  },
  {
   "cell_type": "code",
   "execution_count": 157,
   "metadata": {},
   "outputs": [
    {
     "name": "stdout",
     "output_type": "stream",
     "text": [
      " Минимальное значение числа итераций 15 достигается при значении параметра popsize = 7: \n",
      "      fun: 2.5799275570369713\n",
      "     jac: array([4.97379913e-06, 2.80664381e-05])\n",
      " message: 'Optimization terminated successfully.'\n",
      "    nfev: 239\n",
      "     nit: 15\n",
      " success: True\n",
      "       x: array([9.52166639e-01, 5.00351904e-07])\n"
     ]
    },
    {
     "data": {
      "image/png": "[encoded data removed]",
      "text/plain": [
       "<Figure size 432x288 with 1 Axes>"
      ]
     },
     "metadata": {
      "needs_background": "light"
     },
     "output_type": "display_data"
    }
   ],
   "source": [
    "popsize_min = 0\n",
    "for i in popsize_i:            \n",
    "    result = differential_evolution(ackley, bounds, seed=42, strategy= 'randtobest1bin', popsize=i, tol=0.01, mutation=0.5, recombination=0.7, updating='immediate')\n",
    "    plt.plot(i, result['nit'], 'x')\n",
    "    if nit_min > result['nit']:\n",
    "        nit_min = result['nit']\n",
    "        popsize_min = i\n",
    "        result_min = result\n",
    "        \n",
    "print(f\" Минимальное значение числа итераций {nit_min} достигается при значении параметра popsize = {popsize_min}: \\n {result_min}\")"
   ]
  },
  {
   "cell_type": "markdown",
   "metadata": {},
   "source": [
    "Мы получили минимальное значение попыток равное 15, но при этом глобальный оптимум функции находится не в точке [0, 0], что не удовлетворяет условию задачи. Просмтрим все варианты:"
   ]
  },
  {
   "cell_type": "code",
   "execution_count": 117,
   "metadata": {},
   "outputs": [
    {
     "name": "stdout",
     "output_type": "stream",
     "text": [
      " popsize = 1, nit = 16, x = [-4.39196969e-09 -3.81408057e-09] \n",
      " popsize = 2, nit = 16, x = [-4.39196969e-09 -3.81408057e-09] \n",
      " popsize = 3, nit = 34, x = [-4.94221687e-09 -4.97023754e-09] \n",
      " popsize = 4, nit = 56, x = [-2.69129163e-11 -2.32369679e-12] \n",
      " popsize = 5, nit = 35, x = [-4.82822357e-09  1.06748772e-09] \n",
      " popsize = 6, nit = 68, x = [0. 0.] \n",
      " popsize = 7, nit = 15, x = [9.52166639e-01 5.00351904e-07] \n",
      " popsize = 8, nit = 76, x = [0. 0.] \n",
      " popsize = 9, nit = 81, x = [0. 0.] \n",
      " popsize = 10, nit = 71, x = [0. 0.] \n",
      " popsize = 11, nit = 73, x = [0. 0.] \n",
      " popsize = 12, nit = 76, x = [0. 0.] \n",
      " popsize = 13, nit = 71, x = [0. 0.] \n",
      " popsize = 14, nit = 77, x = [0. 0.] \n",
      " popsize = 15, nit = 76, x = [0. 0.] \n",
      " popsize = 16, nit = 71, x = [0. 0.] \n",
      " popsize = 17, nit = 74, x = [0. 0.] \n",
      " popsize = 18, nit = 77, x = [0. 0.] \n",
      " popsize = 19, nit = 75, x = [0. 0.] \n",
      " popsize = 20, nit = 78, x = [0. 0.] \n",
      " popsize = 21, nit = 75, x = [0. 0.] \n",
      " popsize = 22, nit = 79, x = [0. 0.] \n",
      " popsize = 23, nit = 81, x = [0. 0.] \n",
      " popsize = 24, nit = 77, x = [0. 0.] \n",
      " popsize = 25, nit = 72, x = [0. 0.] \n",
      " popsize = 26, nit = 82, x = [0. 0.] \n",
      " popsize = 27, nit = 77, x = [0. 0.] \n",
      " popsize = 28, nit = 80, x = [0. 0.] \n",
      " popsize = 29, nit = 78, x = [0. 0.] \n",
      " popsize = 30, nit = 78, x = [0. 0.] \n",
      " popsize = 31, nit = 76, x = [0. 0.] \n",
      " popsize = 32, nit = 75, x = [0. 0.] \n",
      " popsize = 33, nit = 77, x = [0. 0.] \n",
      " popsize = 34, nit = 76, x = [0. 0.] \n",
      " popsize = 35, nit = 76, x = [0. 0.] \n",
      " popsize = 36, nit = 75, x = [0. 0.] \n",
      " popsize = 37, nit = 78, x = [0. 0.] \n",
      " popsize = 38, nit = 76, x = [0. 0.] \n",
      " popsize = 39, nit = 75, x = [0. 0.] \n",
      " popsize = 40, nit = 78, x = [0. 0.] \n",
      " popsize = 41, nit = 77, x = [0. 0.] \n",
      " popsize = 42, nit = 76, x = [0. 0.] \n",
      " popsize = 43, nit = 77, x = [0. 0.] \n",
      " popsize = 44, nit = 78, x = [0. 0.] \n",
      " popsize = 45, nit = 77, x = [0. 0.] \n",
      " popsize = 46, nit = 79, x = [0. 0.] \n",
      " popsize = 47, nit = 79, x = [0. 0.] \n",
      " popsize = 48, nit = 78, x = [0. 0.] \n",
      " popsize = 49, nit = 79, x = [0. 0.] \n"
     ]
    }
   ],
   "source": [
    "nit_min = 100000\n",
    "popsize_min = 0\n",
    "for i in popsize_i:            \n",
    "    result = differential_evolution(ackley, bounds, seed=42, strategy= 'randtobest1bin', popsize=i, tol=0.01, mutation=0.5, recombination=0.7, updating='immediate')\n",
    "    print(f\" popsize = {i}, nit = {result['nit']}, x = {result['x']} \")"
   ]
  },
  {
   "cell_type": "markdown",
   "metadata": {},
   "source": [
    "popsize = 6popsize = 6, nit = 68, x = [0. 0.] - минимальное значение попыток (68) мы получаем при значении popsize = 6"
   ]
  },
  {
   "cell_type": "markdown",
   "metadata": {},
   "source": [
    "## Параметр tol"
   ]
  },
  {
   "cell_type": "code",
   "execution_count": 158,
   "metadata": {
    "scrolled": true
   },
   "outputs": [
    {
     "name": "stdout",
     "output_type": "stream",
     "text": [
      " Минимальное значение числа итераций 68 достигается при значении параметра tol = 0.0001: \n",
      "      fun: 4.440892098500626e-16\n",
      " message: 'Optimization terminated successfully.'\n",
      "    nfev: 891\n",
      "     nit: 68\n",
      " success: True\n",
      "       x: array([0., 0.])\n"
     ]
    },
    {
     "data": {
      "image/png": "[encoded data removed]",
      "text/plain": [
       "<Figure size 432x288 with 1 Axes>"
      ]
     },
     "metadata": {
      "needs_background": "light"
     },
     "output_type": "display_data"
    }
   ],
   "source": [
    "tol_i = np.linspace(0.0001, 0.015, num = 10)\n",
    "nit_min = 100000\n",
    "\n",
    "for i in tol_i:            \n",
    "    result = differential_evolution(ackley, bounds, seed=42, strategy= 'randtobest1bin', popsize=6, tol=i, mutation=0.5, recombination=0.7, updating='immediate')\n",
    "    plt.plot(i, result['nit'], 'x')\n",
    "    if nit_min > result['nit']:\n",
    "        nit_min = result['nit']\n",
    "        tol_min = i\n",
    "        result_min = result\n",
    "        \n",
    "print(f\" Минимальное значение числа итераций {nit_min} достигается при значении параметра tol = {tol_min}: \\n {result_min}\")"
   ]
  },
  {
   "cell_type": "markdown",
   "metadata": {},
   "source": [
    "## Параметр mutation"
   ]
  },
  {
   "cell_type": "code",
   "execution_count": 159,
   "metadata": {
    "scrolled": true
   },
   "outputs": [
    {
     "name": "stdout",
     "output_type": "stream",
     "text": [
      " Минимальное значение числа итераций 6 достигается при значении параметра mutation = 0.0: \n",
      "      fun: 6.559645375628232\n",
      "     jac: array([ 1.77635685e-06, -5.68434192e-06])\n",
      " message: 'Optimization terminated successfully.'\n",
      "    nfev: 99\n",
      "     nit: 6\n",
      " success: True\n",
      "       x: array([1.97445202, 1.97445187])\n"
     ]
    },
    {
     "data": {
      "image/png": "[encoded data removed]",
      "text/plain": [
       "<Figure size 432x288 with 1 Axes>"
      ]
     },
     "metadata": {
      "needs_background": "light"
     },
     "output_type": "display_data"
    }
   ],
   "source": [
    "mutation_i = np.linspace(0, 1.99, num = 20)\n",
    "nit_min = 100000\n",
    "\n",
    "for i in mutation_i:            \n",
    "    result = differential_evolution(ackley, bounds, seed=42, strategy= 'randtobest1bin', popsize=6, tol=0.0001, mutation=i, recombination=0.7, updating='immediate')\n",
    "    plt.plot(i, result['nit'], 'x')\n",
    "    if nit_min > result['nit']:\n",
    "        nit_min = result['nit']\n",
    "        mutation_min = i\n",
    "        result_min = result\n",
    "        \n",
    "print(f\" Минимальное значение числа итераций {nit_min} достигается при значении параметра mutation = {mutation_min}: \\n {result_min}\")"
   ]
  },
  {
   "cell_type": "markdown",
   "metadata": {},
   "source": [
    "Мы получили минимальное значение попыток равное 6, но при этом глобальный оптимум функции находится не в точке [0, 0], что не удовлетворяет условию задачи. Просмтрим все варианты:"
   ]
  },
  {
   "cell_type": "code",
   "execution_count": 129,
   "metadata": {},
   "outputs": [
    {
     "name": "stdout",
     "output_type": "stream",
     "text": [
      " mutation = 0.0, nit = 6, x = [1.97445202 1.97445187] \n",
      " mutation = 0.10473684210526316, nit = 19, x = [-0.96847797 -0.96847785] \n",
      " mutation = 0.2094736842105263, nit = 40, x = [-7.59313563e-06  1.08471485e-04] \n",
      " mutation = 0.3142105263157895, nit = 33, x = [-5.01919796e-09 -5.11259058e-09] \n",
      " mutation = 0.4189473684210526, nit = 48, x = [-2.78250811e-08 -1.10511485e-06] \n",
      " mutation = 0.5236842105263158, nit = 71, x = [0. 0.] \n",
      " mutation = 0.628421052631579, nit = 86, x = [0. 0.] \n",
      " mutation = 0.7331578947368421, nit = 99, x = [0. 0.] \n",
      " mutation = 0.8378947368421052, nit = 146, x = [0. 0.] \n",
      " mutation = 0.9426315789473684, nit = 150, x = [0. 0.] \n",
      " mutation = 1.0473684210526315, nit = 170, x = [0. 0.] \n",
      " mutation = 1.1521052631578947, nit = 218, x = [0. 0.] \n",
      " mutation = 1.256842105263158, nit = 241, x = [0. 0.] \n",
      " mutation = 1.361578947368421, nit = 275, x = [0. 0.] \n",
      " mutation = 1.4663157894736842, nit = 306, x = [0. 0.] \n",
      " mutation = 1.5710526315789473, nit = 369, x = [0. 0.] \n",
      " mutation = 1.6757894736842105, nit = 420, x = [0. 0.] \n",
      " mutation = 1.7805263157894737, nit = 429, x = [0. 0.] \n",
      " mutation = 1.8852631578947368, nit = 460, x = [0. 0.] \n",
      " mutation = 1.99, nit = 505, x = [ 0.00000000e+00 -2.22044605e-15] \n"
     ]
    }
   ],
   "source": [
    "mutation_i = np.linspace(0,m 1.99, num = 20)\n",
    "nit_min = 100000\n",
    "\n",
    "for i in mutation_i:            \n",
    "    result = differential_evolution(ackley, bounds, seed=42, strategy= 'randtobest1bin', popsize=6, tol=0.0001, mutation=i, recombination=0.7, updating='immediate')\n",
    "    print(f\" mutation = {i}, nit = {result['nit']}, x = {result['x']} \")"
   ]
  },
  {
   "cell_type": "code",
   "execution_count": 133,
   "metadata": {
    "scrolled": true
   },
   "outputs": [
    {
     "data": {
      "text/plain": [
       "     fun: 4.440892098500626e-16\n",
       " message: 'Optimization terminated successfully.'\n",
       "    nfev: 891\n",
       "     nit: 68\n",
       " success: True\n",
       "       x: array([0., 0.])"
      ]
     },
     "execution_count": 133,
     "metadata": {},
     "output_type": "execute_result"
    }
   ],
   "source": [
    "result = differential_evolution(ackley, bounds, seed=42, strategy= 'randtobest1bin', popsize=6, tol=0.0001, mutation=0.5, recombination=0.7, updating='immediate')\n",
    "result"
   ]
  },
  {
   "cell_type": "markdown",
   "metadata": {},
   "source": [
    "При значении параметра mutation=0.5 кол-во итераций минимально (68)"
   ]
  },
  {
   "cell_type": "markdown",
   "metadata": {},
   "source": [
    "## Параметр recombination"
   ]
  },
  {
   "cell_type": "code",
   "execution_count": 160,
   "metadata": {
    "scrolled": true
   },
   "outputs": [
    {
     "name": "stdout",
     "output_type": "stream",
     "text": [
      " Минимальное значение числа итераций 12 достигается при значении параметра recombination = 1: \n",
      "      fun: 2.5799275570346514\n",
      "     jac: array([ 8.52651279e-06, -2.09610107e-05])\n",
      " message: 'Optimization terminated successfully.'\n",
      "    nfev: 171\n",
      "     nit: 12\n",
      " success: True\n",
      "       x: array([ 9.52166711e-01, -3.87649972e-07])\n"
     ]
    },
    {
     "data": {
      "image/png": "[encoded data removed]",
      "text/plain": [
       "<Figure size 432x288 with 1 Axes>"
      ]
     },
     "metadata": {
      "needs_background": "light"
     },
     "output_type": "display_data"
    }
   ],
   "source": [
    "recombination_i = [0, 0.1, 0.2, 0.3, 0.4, 0.5, 0.6, 0.7, 0.8, 0.9, 1]\n",
    "nit_min = 100000\n",
    "\n",
    "for i in recombination_i:            \n",
    "    result = differential_evolution(ackley, bounds, seed=42, strategy= 'randtobest1bin', popsize=6, tol=0.0001, mutation=0.5, recombination=i, updating='immediate')\n",
    "    plt.plot(i, result['nit'], 'x')\n",
    "    if nit_min > result['nit']:\n",
    "        nit_min = result['nit']\n",
    "        recombination_min = i\n",
    "        result_min = result\n",
    "        \n",
    "print(f\" Минимальное значение числа итераций {nit_min} достигается при значении параметра recombination = {recombination_min}: \\n {result_min}\")"
   ]
  },
  {
   "cell_type": "markdown",
   "metadata": {},
   "source": [
    "Мы получили минимальное значение попыток равное 12, но при этом глобальный оптимум функции находится не в точке [0, 0], что не удовлетворяет условию задачи. Просмтрим все варианты:"
   ]
  },
  {
   "cell_type": "code",
   "execution_count": 138,
   "metadata": {},
   "outputs": [
    {
     "name": "stdout",
     "output_type": "stream",
     "text": [
      " recombination = 0.0, nit = 110, x = [0. 0.] \n",
      " recombination = 0.10473684210526316, nit = 121, x = [0. 0.] \n",
      " recombination = 0.2094736842105263, nit = 100, x = [0. 0.] \n",
      " recombination = 0.3142105263157895, nit = 89, x = [0. 0.] \n",
      " recombination = 0.4189473684210526, nit = 83, x = [0. 0.] \n",
      " recombination = 0.5236842105263158, nit = 84, x = [0. 0.] \n",
      " recombination = 0.628421052631579, nit = 82, x = [0. 0.] \n",
      " recombination = 0.7331578947368421, nit = 69, x = [0. 0.] \n",
      " recombination = 0.8378947368421052, nit = 47, x = [-3.93732010e-06 -8.67812241e-07] \n",
      " recombination = 0.9426315789473684, nit = 59, x = [0. 0.] \n",
      " recombination = 1.0473684210526315, nit = 12, x = [ 9.52166711e-01 -3.87649972e-07] \n",
      " recombination = 1.1521052631578947, nit = 12, x = [ 9.52166711e-01 -3.87649972e-07] \n",
      " recombination = 1.256842105263158, nit = 12, x = [ 9.52166711e-01 -3.87649972e-07] \n",
      " recombination = 1.361578947368421, nit = 12, x = [ 9.52166711e-01 -3.87649972e-07] \n",
      " recombination = 1.4663157894736842, nit = 12, x = [ 9.52166711e-01 -3.87649972e-07] \n",
      " recombination = 1.5710526315789473, nit = 12, x = [ 9.52166711e-01 -3.87649972e-07] \n",
      " recombination = 1.6757894736842105, nit = 12, x = [ 9.52166711e-01 -3.87649972e-07] \n",
      " recombination = 1.7805263157894737, nit = 12, x = [ 9.52166711e-01 -3.87649972e-07] \n",
      " recombination = 1.8852631578947368, nit = 12, x = [ 9.52166711e-01 -3.87649972e-07] \n",
      " recombination = 1.99, nit = 12, x = [ 9.52166711e-01 -3.87649972e-07] \n"
     ]
    }
   ],
   "source": [
    "recombination_i = [0, 0.1, 0.2, 0.3, 0.4, 0.5, 0.6, 0.7, 0.8, 0.9, 1]\n",
    "nit_min = 100000\n",
    "\n",
    "for i in mutation_i:            \n",
    "    result = differential_evolution(ackley, bounds, seed=42, strategy= 'randtobest1bin', popsize=6, tol=0.0001, mutation=0.5, recombination=i, updating='immediate')\n",
    "    print(f\" recombination = {i}, nit = {result['nit']}, x = {result['x']} \")"
   ]
  },
  {
   "cell_type": "code",
   "execution_count": 144,
   "metadata": {
    "scrolled": false
   },
   "outputs": [
    {
     "data": {
      "text/plain": [
       "     fun: 4.440892098500626e-16\n",
       " message: 'Optimization terminated successfully.'\n",
       "    nfev: 771\n",
       "     nit: 58\n",
       " success: True\n",
       "       x: array([0., 0.])"
      ]
     },
     "execution_count": 144,
     "metadata": {},
     "output_type": "execute_result"
    }
   ],
   "source": [
    "result = differential_evolution(ackley, bounds, seed=42, strategy= 'randtobest1bin', popsize=6, tol=0.0001, mutation=0.5, recombination=0.94, updating='immediate')\n",
    "result"
   ]
  },
  {
   "cell_type": "markdown",
   "metadata": {},
   "source": [
    "При значении параметра recombination=0.94 кол-во итераций минимально (58)"
   ]
  },
  {
   "cell_type": "markdown",
   "metadata": {},
   "source": [
    "##  Параметр updating"
   ]
  },
  {
   "cell_type": "markdown",
   "metadata": {},
   "source": [
    "updating{‘immediate’, ‘deferred’}, optional"
   ]
  },
  {
   "cell_type": "code",
   "execution_count": 147,
   "metadata": {},
   "outputs": [
    {
     "data": {
      "text/plain": [
       "     fun: 4.440892098500626e-16\n",
       " message: 'Optimization terminated successfully.'\n",
       "    nfev: 771\n",
       "     nit: 58\n",
       " success: True\n",
       "       x: array([0., 0.])"
      ]
     },
     "execution_count": 147,
     "metadata": {},
     "output_type": "execute_result"
    }
   ],
   "source": [
    "result = differential_evolution(ackley, bounds, seed=42, strategy= 'randtobest1bin', popsize=6, tol=0.0001, mutation=0.5, recombination=0.94, updating='immediate')\n",
    "result"
   ]
  },
  {
   "cell_type": "code",
   "execution_count": 148,
   "metadata": {
    "scrolled": true
   },
   "outputs": [
    {
     "data": {
      "text/plain": [
       "     fun: 4.440892098500626e-16\n",
       " message: 'Optimization terminated successfully.'\n",
       "    nfev: 1143\n",
       "     nit: 89\n",
       " success: True\n",
       "       x: array([0., 0.])"
      ]
     },
     "execution_count": 148,
     "metadata": {},
     "output_type": "execute_result"
    }
   ],
   "source": [
    "result = differential_evolution(ackley, bounds, seed=42, strategy= 'randtobest1bin', popsize=6, tol=0.0001, mutation=0.5, recombination=0.94, updating='deferred')\n",
    "result"
   ]
  },
  {
   "cell_type": "markdown",
   "metadata": {},
   "source": [
    "При значении параметра updating='immediate' количество итераций минимально (58)"
   ]
  }
 ],
 "metadata": {
  "kernelspec": {
   "display_name": "Python 3",
   "language": "python",
   "name": "python3"
  },
  "language_info": {
   "codemirror_mode": {
    "name": "ipython",
    "version": 3
   },
   "file_extension": ".py",
   "mimetype": "text/x-python",
   "name": "python",
   "nbconvert_exporter": "python",
   "pygments_lexer": "ipython3",
   "version": "3.8.5"
  }
 },
 "nbformat": 4,
 "nbformat_minor": 4
}

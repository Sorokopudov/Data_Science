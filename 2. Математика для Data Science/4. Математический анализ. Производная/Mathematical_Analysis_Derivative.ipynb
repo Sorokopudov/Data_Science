{
 "cells": [
  {
   "cell_type": "markdown",
   "metadata": {},
   "source": [
    "# Домашнее задание \"Математический анализ. Производная\""
   ]
  },
  {
   "cell_type": "markdown",
   "metadata": {},
   "source": [
    "Уровень 0:\n",
    "Посчитайте значение первой и второй производной функции:\n",
    "\n",
    "f(x) = x^5 + 4sin(2x) + cos(3x+3)\n",
    "\n",
    "В точке x = 1."
   ]
  },
  {
   "cell_type": "code",
   "execution_count": 26,
   "metadata": {},
   "outputs": [],
   "source": [
    "import scipy as sc \n",
    "from scipy.misc import derivative\n",
    "import scipy.misc\n",
    "import math"
   ]
  },
  {
   "cell_type": "code",
   "execution_count": 28,
   "metadata": {},
   "outputs": [],
   "source": [
    "def f(x):\n",
    "    y = x**5 + 4*sin(2*x) + cos(3*x+3)\n",
    "    return y "
   ]
  },
  {
   "cell_type": "code",
   "execution_count": 29,
   "metadata": {},
   "outputs": [
    {
     "name": "stderr",
     "output_type": "stream",
     "text": [
      "<ipython-input-28-a362c73e2892>:2: DeprecationWarning: scipy.sin is deprecated and will be removed in SciPy 2.0.0, use numpy.sin instead\n",
      "  y = x**5 + 4*sin(2*x) + cos(3*x+3)\n",
      "<ipython-input-28-a362c73e2892>:2: DeprecationWarning: scipy.cos is deprecated and will be removed in SciPy 2.0.0, use numpy.cos instead\n",
      "  y = x**5 + 4*sin(2*x) + cos(3*x+3)\n"
     ]
    },
    {
     "data": {
      "text/plain": [
       "2.509071801881646"
      ]
     },
     "execution_count": 29,
     "metadata": {},
     "output_type": "execute_result"
    }
   ],
   "source": [
    "# Первая производная\n",
    "derivative(f, 1, dx=1e-6, n=1)"
   ]
  },
  {
   "cell_type": "code",
   "execution_count": 33,
   "metadata": {},
   "outputs": [
    {
     "name": "stderr",
     "output_type": "stream",
     "text": [
      "<ipython-input-28-a362c73e2892>:2: DeprecationWarning: scipy.sin is deprecated and will be removed in SciPy 2.0.0, use numpy.sin instead\n",
      "  y = x**5 + 4*sin(2*x) + cos(3*x+3)\n",
      "<ipython-input-28-a362c73e2892>:2: DeprecationWarning: scipy.cos is deprecated and will be removed in SciPy 2.0.0, use numpy.cos instead\n",
      "  y = x**5 + 4*sin(2*x) + cos(3*x+3)\n"
     ]
    },
    {
     "data": {
      "text/plain": [
       "-3.19033688356285"
      ]
     },
     "execution_count": 33,
     "metadata": {},
     "output_type": "execute_result"
    }
   ],
   "source": [
    "# Вторая производная\n",
    "derivative(f, 1, dx=1e-6, n=2)"
   ]
  }
 ],
 "metadata": {
  "kernelspec": {
   "display_name": "Python 3",
   "language": "python",
   "name": "python3"
  },
  "language_info": {
   "codemirror_mode": {
    "name": "ipython",
    "version": 3
   },
   "file_extension": ".py",
   "mimetype": "text/x-python",
   "name": "python",
   "nbconvert_exporter": "python",
   "pygments_lexer": "ipython3",
   "version": "3.8.5"
  }
 },
 "nbformat": 4,
 "nbformat_minor": 4
}
